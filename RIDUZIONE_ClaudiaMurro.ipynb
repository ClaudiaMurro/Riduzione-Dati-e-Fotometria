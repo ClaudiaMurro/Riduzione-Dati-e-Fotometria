{
 "cells": [
  {
   "cell_type": "code",
   "execution_count": null,
   "id": "e0e7dfa9-2296-4829-bdba-8c25b081d888",
   "metadata": {},
   "outputs": [],
   "source": []
  }
 ],
 "metadata": {
  "kernelspec": {
   "display_name": "",
   "name": ""
  },
  "language_info": {
   "name": ""
  }
 },
 "nbformat": 4,
 "nbformat_minor": 5
}
